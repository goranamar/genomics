{
 "cells": [
  {
   "cell_type": "code",
   "execution_count": 2,
   "metadata": {},
   "outputs": [
    {
     "name": "stdout",
     "output_type": "stream",
     "text": [
      "Bam file loaded\n"
     ]
    }
   ],
   "source": [
    "import pysam\n",
    "\n",
    "bamfile = pysam.AlignmentFile(\"/sbgenomics/project-files/merged-tumor.bam\",\"rb\")\n",
    "print(\"Bam file loaded\")"
   ]
  },
  {
   "cell_type": "code",
   "execution_count": 9,
   "metadata": {},
   "outputs": [
    {
     "name": "stdout",
     "output_type": "stream",
     "text": [
      "First read:  C0HVYACXX120402:7:1207:5722:57044\t1187\t20\t9483248\t27\t76M\t20\t9483381\t76\tTTTTCAAACAGTATCTATGCCTGCCAAATGTGAACATATAAAAAAAAACCAGAATGTGCCATTCTGATTTAAACTG\tarray('B', [28, 28, 27, 29, 31, 30, 31, 31, 29, 31, 35, 30, 29, 31, 34, 30, 29, 23, 41, 32, 20, 30, 29, 34, 34, 29, 30, 31, 30, 30, 30, 33, 33, 26, 39, 12, 25, 19, 32, 30, 35, 28, 35, 33, 23, 33, 35, 36, 30, 38, 33, 41, 34, 35, 31, 33, 23, 30, 30, 36, 27, 32, 29, 34, 35, 41, 33, 31, 33, 29, 32, 32, 31, 31, 31, 34])\t[('XA', 'GL000217.1,-110754,76M,1;'), ('BD', 'NNNNNNNNNNNNNNNNNNNNNNNNNNNNNNNNNNNNNNNNNNNNNNNNNNNNNNNNNNNNNNNNNNNNNNNNNNNN'), ('MD', '76'), ('RG', '1'), ('BI', 'NNNNNNNNNNNNNNNNNNNNNNNNNNNNNNNNNNNNNNNNNNNNNNNNNNNNNNNNNNNNNNNNNNNNNNNNNNNN'), ('NM', 0), ('MQ', 27), ('AS', 76), ('XS', 71)]\n",
      "First read tags:  [('XA', 'GL000217.1,-110754,76M,1;'), ('BD', 'NNNNNNNNNNNNNNNNNNNNNNNNNNNNNNNNNNNNNNNNNNNNNNNNNNNNNNNNNNNNNNNNNNNNNNNNNNNN'), ('MD', '76'), ('RG', '1'), ('BI', 'NNNNNNNNNNNNNNNNNNNNNNNNNNNNNNNNNNNNNNNNNNNNNNNNNNNNNNNNNNNNNNNNNNNNNNNNNNNN'), ('NM', 0), ('MQ', 27), ('AS', 76), ('XS', 71)]\n",
      "Flag tag value:  1187\n"
     ]
    }
   ],
   "source": [
    "for read in bamfile.head(1):\n",
    "    print(\"First read: \", read)\n",
    "    print(\"First read tags: \", read.get_tags(with_value_type=False))\n",
    "    print(\"Flag tag value: \", read.flag)\n",
    "    "
   ]
  },
  {
   "cell_type": "code",
   "execution_count": 4,
   "metadata": {},
   "outputs": [
    {
     "name": "stdout",
     "output_type": "stream",
     "text": [
      "Total number of reads:  2921629\n"
     ]
    }
   ],
   "source": [
    "read_count = 0\n",
    "for read in bamfile.fetch():\n",
    "    read_count+=1\n",
    "print(\"Total number of reads: \", read_count)"
   ]
  },
  {
   "cell_type": "code",
   "execution_count": 5,
   "metadata": {},
   "outputs": [
    {
     "name": "stdout",
     "output_type": "stream",
     "text": [
      "Total number of unmapped reads:  17765\n"
     ]
    }
   ],
   "source": [
    "count_unmapped = 0\n",
    "for read in bamfile.fetch():\n",
    "    if read.is_unmapped ==True:\n",
    "        count_unmapped+=1\n",
    "print(\"Total number of unmapped reads: \", count_unmapped)"
   ]
  },
  {
   "cell_type": "code",
   "execution_count": 23,
   "metadata": {},
   "outputs": [
    {
     "name": "stdout",
     "output_type": "stream",
     "text": [
      "Number of reads with mapping quality 0:  126628\n"
     ]
    }
   ],
   "source": [
    "mapping_quality_0 = 0\n",
    "for read in bamfile.fetch():\n",
    "    if read.mapping_quality == 0:\n",
    "        mapping_quality_0+=1\n",
    "print(\"Number of reads with mapping quality 0: \", mapping_quality_0)"
   ]
  },
  {
   "cell_type": "code",
   "execution_count": 22,
   "metadata": {},
   "outputs": [
    {
     "name": "stdout",
     "output_type": "stream",
     "text": [
      "Average mapping quality for all the reads :  55.91379158681681\n"
     ]
    }
   ],
   "source": [
    "quality_sum = 0\n",
    "for read in bamfile.fetch():\n",
    "    quality_sum += read.mapping_quality\n",
    "print(\"Average mapping quality for all the reads : \", quality_sum/read_count)"
   ]
  },
  {
   "cell_type": "code",
   "execution_count": 31,
   "metadata": {},
   "outputs": [
    {
     "name": "stdout",
     "output_type": "stream",
     "text": [
      "Average mapping quality if reads with 0 mapp quality are filtered out:  58.446975510921106\n"
     ]
    }
   ],
   "source": [
    "quality_sum_without_0 = 0\n",
    "count_without_0 = 0\n",
    "for read in bamfile.fetch():\n",
    "    if read.mapping_quality!=0:\n",
    "        quality_sum_without_0 += read.mapping_quality\n",
    "        count_without_0+=1\n",
    "print(\"Average mapping quality if reads with 0 mapp quality are filtered out: \",quality_sum_without_0/count_without_0)\n"
   ]
  },
  {
   "cell_type": "code",
   "execution_count": 8,
   "metadata": {},
   "outputs": [
    {
     "name": "stdout",
     "output_type": "stream",
     "text": [
      "Query sequence:  TTTTCAAACAGTATCTATGCCTGCCAAATGTGAACATATAAAAAAAAACCAGAATGTGCCATTCTGATTTAAACTG\n",
      "Query length:  76\n",
      "Mapping quality:  27\n"
     ]
    }
   ],
   "source": [
    "#query_length, query_sequence and mapping_quality tags\n",
    "for read in bamfile.head(1):\n",
    "    #print(read)\n",
    "    print(\"Query sequence: \",read.query_sequence)\n",
    "    print(\"Query length: \",read.query_length)\n",
    "    print(\"Mapping quality: \", read.mapping_quality)\n",
    "    \n",
    "    "
   ]
  },
  {
   "cell_type": "code",
   "execution_count": null,
   "metadata": {},
   "outputs": [],
   "source": []
  }
 ],
 "metadata": {
  "kernelspec": {
   "display_name": "Python 3",
   "language": "python",
   "name": "python3"
  },
  "language_info": {
   "codemirror_mode": {
    "name": "ipython",
    "version": 3
   },
   "file_extension": ".py",
   "mimetype": "text/x-python",
   "name": "python",
   "nbconvert_exporter": "python",
   "pygments_lexer": "ipython3",
   "version": "3.6.3"
  }
 },
 "nbformat": 4,
 "nbformat_minor": 2
}
